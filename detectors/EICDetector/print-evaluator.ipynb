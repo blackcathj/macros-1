{
 "cells": [
  {
   "cell_type": "markdown",
   "metadata": {},
   "source": [
    "# Introduction\n",
    "\n",
    "This is an example [ecce](http://ecce-eic.github.io/) [ROOT Jupyter Notebook](https://root.cern.ch/notebooks/HowTos/HowTo_ROOT-Notebooks.html) to run the sPHENIX anaysis on the [BNL SDCC Jupyter Lab](https://jupyter.sdcc.bnl.gov/). Please use lauch the HTC Jupyter hub for this tutorial: \n",
    "\n",
    "![SDCC HTC Jupyter Hub](https://jupyter.sdcc.bnl.gov/images/jupyterhub-logo-card-htc.png)\n",
    "\n",
    "Jupyter Notebook provide an analysis interface that can integrate documentation, code and output plot in a single file. It supports all sPHENIX environment. It is suitable for final analysis step, while large scale analysis and reconstruction should go through the compiled `c++` analysis module.  \n",
    "\n",
    "Here is an example notebook to run the analysis in ROOT C++ macros. `pyROOT` macro is also supported if you would like to use `python` for analysis. "
   ]
  },
  {
   "cell_type": "markdown",
   "metadata": {},
   "source": [
    "This is to checkout the evaluator TTrees produced by running the [ECCE defaut macros](https://github.com/ECCE-EIC/macros):\n",
    "```\n",
    "root -b -q Fun4All_G4_EICDetector.C\n",
    "============================================================\n",
    "   ------------------------------------------------------------------\n",
    "  | Welcome to ROOT 6.22/02                        https://root.cern |\n",
    "  | (c) 1995-2020, The ROOT Team; conception: R. Brun, F. Rademakers |\n",
    "  | Built for linuxx8664gcc on Aug 17 2020, 12:46:52                 |\n",
    "  | From tags/v6-22-02@v6-22-02                                      |\n",
    "  | Try '.help', '.demo', '.license', '.credits', '.quit'/'.q'       |\n",
    "   ------------------------------------------------------------------\n",
    "\n",
    "\n",
    "Processing Fun4All_G4_EICDetector.C...\n",
    "```"
   ]
  },
  {
   "cell_type": "markdown",
   "metadata": {},
   "source": [
    "# Tracking evaluator"
   ]
  },
  {
   "cell_type": "code",
   "execution_count": 1,
   "metadata": {},
   "outputs": [
    {
     "name": "stdout",
     "output_type": "stream",
     "text": [
      "(TFile *) 0x7fd18400f0a0\n"
     ]
    }
   ],
   "source": [
    "TFile::Open(\"G4EICDetector_g4tracking_eval.root\")"
   ]
  },
  {
   "cell_type": "code",
   "execution_count": 2,
   "metadata": {},
   "outputs": [
    {
     "name": "stdout",
     "output_type": "stream",
     "text": [
      "TFile**\t\tG4EICDetector_g4tracking_eval.root\t\n",
      " TFile*\t\tG4EICDetector_g4tracking_eval.root\t\n",
      "  KEY: TTree\ttracks;1\tFastSim Eval => tracks\n",
      "  KEY: TTree\tvertex;1\tFastSim Eval => vertces\n",
      "  KEY: TH2D\tDeltaMomVsTruthEta;1\t#frac{#Delta p}{truth p} vs. truth #eta\n",
      "  KEY: TH2D\tDeltaMomVsTruthMom;1\t#frac{#Delta p}{truth p} vs. truth p\n"
     ]
    }
   ],
   "source": [
    "gFile->ls()"
   ]
  },
  {
   "cell_type": "code",
   "execution_count": 3,
   "metadata": {},
   "outputs": [
    {
     "name": "stdout",
     "output_type": "stream",
     "text": [
      "======> EVENT:0\n",
      " event           = 1\n",
      " gtrackID        = 1\n",
      " gflavor         = -211\n",
      " gpx             = 1.2328\n",
      " gpy             = 7.82863\n",
      " gpz             = -56.2354\n",
      " gvx             = 0\n",
      " gvy             = 0\n",
      " gvz             = 3.64197\n",
      " gvt             = 0\n",
      " trackID         = 0\n",
      " charge          = -1\n",
      " nhits           = 0\n",
      " px              = 0.872744\n",
      " py              = 5.46897\n",
      " pz              = -39.3583\n",
      " pcax            = 0.00277378\n",
      " pcay            = -0.00133881\n",
      " pcaz            = 3.63195\n",
      " dca2d           = 6.57687e-05\n",
      " nHit_G4HIT_EGEM_0 = 0\n",
      " nHit_G4HIT_EGEM_1 = 1\n",
      " nHit_G4HIT_EGEM_2 = 1\n",
      " nHit_G4HIT_EGEM_3 = 1\n",
      " nHit_G4HIT_FGEM_2 = 0\n",
      " nHit_G4HIT_FGEM_3 = 0\n",
      " nHit_G4HIT_FGEM_4 = 0\n",
      " nHit_G4HIT_FST_0 = 0\n",
      " nHit_G4HIT_FST_1 = 0\n",
      " nHit_G4HIT_FST_2 = 0\n",
      " nHit_G4HIT_FST_3 = 0\n",
      " nHit_G4HIT_FST_4 = 0\n",
      " nHit_G4HIT_MVTX = 0\n",
      " nHit_G4HIT_TPC  = 0\n"
     ]
    }
   ],
   "source": [
    "tracks->Show(0)"
   ]
  },
  {
   "cell_type": "markdown",
   "metadata": {},
   "source": [
    "# Calorimeter evaluator"
   ]
  },
  {
   "cell_type": "code",
   "execution_count": 7,
   "metadata": {},
   "outputs": [
    {
     "name": "stdout",
     "output_type": "stream",
     "text": [
      "(TFile *) 0x7fd185a1c5b0\n"
     ]
    }
   ],
   "source": [
    "TFile::Open(\"G4EICDetector_g4cemc_eval.root\")"
   ]
  },
  {
   "cell_type": "code",
   "execution_count": 8,
   "metadata": {},
   "outputs": [
    {
     "name": "stdout",
     "output_type": "stream",
     "text": [
      "TFile**\t\tG4EICDetector_g4cemc_eval.root\t\n",
      " TFile*\t\tG4EICDetector_g4cemc_eval.root\t\n",
      "  KEY: TNtuple\tntp_gpoint;1\tprimary vertex => best (first) vertex\n",
      "  KEY: TNtuple\tntp_gshower;1\ttruth shower => best cluster\n",
      "  KEY: TNtuple\tntp_tower;1\ttower => max truth primary\n",
      "  KEY: TTree\ttower_debug;1\ttower => max truth primary\n",
      "  KEY: TNtuple\tntp_cluster;1\tcluster => max truth primary\n"
     ]
    }
   ],
   "source": [
    "gFile->ls()"
   ]
  },
  {
   "cell_type": "code",
   "execution_count": 9,
   "metadata": {},
   "outputs": [
    {
     "name": "stdout",
     "output_type": "stream",
     "text": [
      "======> EVENT:2\n",
      " event           = 0\n",
      " gparticleID     = 3\n",
      " gflavor         = -211\n",
      " gnhits          = 0\n",
      " geta            = 0.471559\n",
      " gphi            = -2.16036\n",
      " ge              = 1.79279\n",
      " gpt             = 1.60551\n",
      " gvx             = 0\n",
      " gvy             = 0\n",
      " gvz             = 3.64197\n",
      " gembed          = 1\n",
      " gedep           = 0.0943061\n",
      " clusterID       = 436\n",
      " ntowers         = 3\n",
      " eta             = 0.457651\n",
      " x               = -42.2263\n",
      " y               = -85.3743\n",
      " z               = 48.7691\n",
      " phi             = -2.03012\n",
      " e               = 0.767885\n",
      " efromtruth      = 0.0267012\n"
     ]
    }
   ],
   "source": [
    "ntp_gshower->Show(2)"
   ]
  },
  {
   "cell_type": "markdown",
   "metadata": {},
   "source": [
    "# Jet evaluator"
   ]
  },
  {
   "cell_type": "code",
   "execution_count": 10,
   "metadata": {},
   "outputs": [
    {
     "name": "stdout",
     "output_type": "stream",
     "text": [
      "(TFile *) 0x7fd185ae2f50\n"
     ]
    }
   ],
   "source": [
    "TFile::Open(\"g4fwdjets_tower_10_eval.root\")"
   ]
  },
  {
   "cell_type": "code",
   "execution_count": 11,
   "metadata": {},
   "outputs": [
    {
     "name": "stdout",
     "output_type": "stream",
     "text": [
      "TFile**\t\tg4fwdjets_tower_10_eval.root\t\n",
      " TFile*\t\tg4fwdjets_tower_10_eval.root\t\n",
      "  KEY: TNtuple\tntp_recojet;1\treco jet => max truth jet\n",
      "  KEY: TNtuple\tntp_truthjet;1\ttruth jet => best reco jet\n"
     ]
    }
   ],
   "source": [
    "gFile->ls()"
   ]
  },
  {
   "cell_type": "code",
   "execution_count": 12,
   "metadata": {},
   "outputs": [
    {
     "name": "stdout",
     "output_type": "stream",
     "text": [
      "======> EVENT:2\n",
      " event           = 0\n",
      " gid             = 2\n",
      " gncomp          = 1\n",
      " geta            = -1.44483\n",
      " gphi            = -3.13949\n",
      " ge              = 10.9744\n",
      " gpt             = 4.90226\n",
      " id              = 11\n",
      " ncomp           = 176\n",
      " eta             = -1.11833\n",
      " phi             = 3.141\n",
      " e               = 7.02573\n",
      " pt              = 3.84213\n",
      " efromtruth      = 0.11846\n"
     ]
    }
   ],
   "source": [
    "ntp_truthjet->Show(2)"
   ]
  },
  {
   "cell_type": "markdown",
   "metadata": {},
   "source": [
    "# Event evaluator"
   ]
  },
  {
   "cell_type": "code",
   "execution_count": 13,
   "metadata": {},
   "outputs": [
    {
     "name": "stdout",
     "output_type": "stream",
     "text": [
      "(TFile *) 0x7fd1859b9cb0\n"
     ]
    }
   ],
   "source": [
    "TFile::Open(\"G4EICDetector_eventtree.root\")"
   ]
  },
  {
   "cell_type": "code",
   "execution_count": 14,
   "metadata": {},
   "outputs": [
    {
     "name": "stdout",
     "output_type": "stream",
     "text": [
      "TFile**\t\tG4EICDetector_eventtree.root\t\n",
      " TFile*\t\tG4EICDetector_eventtree.root\t\n",
      "  KEY: TTree\tevent_tree;1\tevent_tree\n"
     ]
    }
   ],
   "source": [
    "gFile->ls()"
   ]
  },
  {
   "cell_type": "code",
   "execution_count": 16,
   "metadata": {},
   "outputs": [
    {
     "name": "stdout",
     "output_type": "stream",
     "text": [
      "======> EVENT:0\n",
      " nHits           = 0\n",
      " nTracks         = 5\n",
      " tracks_ID       = 0, \n",
      "                  1, 2, 3, 4\n",
      " tracks_px       = 0.872744, \n",
      "                  0.522337, -0.892324, 2.61175, -5.02921\n",
      " tracks_py       = 5.46897, \n",
      "                  13.7141, -1.33293, 0.663873, -0.0118706\n",
      " tracks_pz       = -39.3583, \n",
      "                  -59.0867, 0.784418, 3.46976, -10.0691\n",
      " tracks_trueID   = 1, \n",
      "                  2, 3, 4, 5\n",
      " nProjections    = 0\n",
      " tower_FHCAL_N   = 1\n",
      " tower_FHCAL_E   = 0.120629\n",
      " tower_FHCAL_iEta = 43\n",
      " tower_FHCAL_iPhi = 42\n",
      " tower_FHCAL_trueID = 4\n",
      " cluster_FHCAL_N = 1\n",
      " cluster_FHCAL_E = 0.120629\n",
      " cluster_FHCAL_Eta = -10000\n",
      " cluster_FHCAL_Phi = 0.753151\n",
      " cluster_FHCAL_NTower = 1\n",
      " cluster_FHCAL_trueID = 4\n",
      " tower_HCALIN_N  = 0\n",
      " cluster_HCALIN_N = 1\n",
      " cluster_HCALIN_E = 0.0715316\n",
      " cluster_HCALIN_Eta = -10000\n",
      " cluster_HCALIN_Phi = 0.113532\n",
      " cluster_HCALIN_NTower = 2\n",
      " cluster_HCALIN_trueID = 4\n",
      " tower_HCALOUT_N = 5\n",
      " tower_HCALOUT_E = 0.467427, \n",
      "                  0.224838, 0.0887519, 0.0887519, 0.201171\n",
      " tower_HCALOUT_iEta = 0, \n",
      "                  0, 0, 13, 19\n",
      " tower_HCALOUT_iPhi = 24, \n",
      "                  31, 34, 39, 0\n",
      " tower_HCALOUT_trueID = 5, \n",
      "                  5, 5, 3, 4\n",
      " cluster_HCALOUT_N = 5\n",
      " cluster_HCALOUT_E = 0.467427, \n",
      "                  0.224838, 0.0887519, 0.0887519, 0.201171\n",
      " cluster_HCALOUT_Eta = -10000, \n",
      "                  -10000, -10000, -10000, -10000\n",
      " cluster_HCALOUT_Phi = 2.40528, \n",
      "                  3.09251, -2.89616, -2.40528, 0.0490874\n",
      " cluster_HCALOUT_NTower = 1, \n",
      "                  1, 1, 1, 1\n",
      " cluster_HCALOUT_trueID = 5, \n",
      "                  5, 5, 3, 4\n",
      " tower_FEMC_N    = 0\n",
      " cluster_FEMC_N  = 0\n",
      " tower_CEMC_N    = 71\n",
      " tower_CEMC_E    = 0.0514668, \n",
      "                  0.1544, 0.0741122, 0.0782295, 1.25579, 0.115286, \n",
      "                  0.156459, 0.0699949, 0.0658775, 0.0555841, 0.0555841, \n",
      "                  0.0597015, 0.0535255, 0.0514668, 0.0514668, 0.0555841, \n",
      "                  0.0555841, 0.0555841, 0.0514668, 0.0555841\n",
      " tower_CEMC_iEta = 2, \n",
      "                  3, 5, 5, 6, 6, 7, 8, 9, 10, 19, \n",
      "                  20, 27, 39, 45, 50, 52, 53, 54, 54\n",
      " tower_CEMC_iPhi = 36, \n",
      "                  0, 1, 2, 1, 2, 1, 2, 1, 207, 151, \n",
      "                  99, 23, 204, 158, 165, 200, 124, 127, 233\n",
      " tower_CEMC_trueID = -10, \n",
      "                  5, 5, 5, 5, 5, 5, 5, 5, -10, -10, \n",
      "                  -10, -10, -10, -10, -10, -10, -10, -10, -10\n",
      " cluster_CEMC_N  = 64\n",
      " cluster_CEMC_E  = 0.0514668, \n",
      "                  0.230571, 0.0802882, 1.67988, 0.0699949, 0.0658775, \n",
      "                  0.0555841, 0.0555841, 0.0597015, 0.0741122, 0.0699949, \n",
      "                  0.0535255, 0.0514668, 0.0782295, 0.0946989, 0.0555841, \n",
      "                  0.0761709, 0.0844056, 0.0555841, 0.0555841\n",
      " cluster_CEMC_Eta = -10000, \n",
      "                  -10000, -10000, -10000, -10000, -10000, \n",
      "                  -10000, -10000, -10000, -10000, -10000, \n",
      "                  -10000, -10000, -10000, -10000, -10000, \n",
      "                  -10000, -10000, -10000, -10000\n",
      " cluster_CEMC_Phi = -2.24954, \n",
      "                  -3.11525, 0.903666, -3.09654, -3.07956, -3.10339, \n",
      "                  1.93141, 0.562308, -0.708692, 2.20125, 1.76027, \n",
      "                  -2.56706, 1.85776, 1.78625, 0.731918, 0.903666, \n",
      "                  1.99404, 0.121324, 1.76027, -0.0980983\n",
      " cluster_CEMC_NTower = 1, \n",
      "                  3, 2, 5, 1, 1, 1, 1, 1, 2, 2, \n",
      "                  1, 1, 2, 2, 1, 2, 2, 1, 1\n",
      " cluster_CEMC_trueID = -10, \n",
      "                  5, -10, 5, 5, 5, -10, -10, -10, -10, -10, \n",
      "                  -10, -10, -10, -10, -10, -10, -10, -10, -10\n",
      " tower_EEMC_N    = 4\n",
      " tower_EEMC_E    = 0.153778, \n",
      "                  0.0764444, 0.132, 0.138667\n",
      " tower_EEMC_iEta = 48, \n",
      "                  48, 49, 49\n",
      " tower_EEMC_iPhi = 61, \n",
      "                  62, 69, 70\n",
      " tower_EEMC_trueID = 1, \n",
      "                  1, 2, 2\n",
      " cluster_EEMC_N  = 2\n",
      " cluster_EEMC_E  = 0.230222, \n",
      "                  0.300667\n",
      " cluster_EEMC_Eta = -10000, \n",
      "                  -10000\n",
      " cluster_EEMC_Phi = 1.44689, \n",
      "                  1.54595\n",
      " cluster_EEMC_NTower = 2, \n",
      "                  3\n",
      " cluster_EEMC_trueID = 1, \n",
      "                  2\n",
      " nMCPart         = 511\n",
      " mcpart_ID       = -69126, \n",
      "                  -69125, -69124, -69123, -69122, -69121, \n",
      "                  -69120, -69119, -69118, -69117, -69116, \n",
      "                  -69115, -69114, -69113, -69112, -69111, \n",
      "                  -69110, -69109, -69108, -69106\n",
      " mcpart_ID_parent = 5, \n",
      "                  5, 5, 5, 5, 5, \n",
      "                  5, -69116, -69116, -69116, 5, \n",
      "                  -69114, 5, 5, 5, 5, \n",
      "                  5, 5, 5, -69104\n",
      " mcpart_PDG      = 11, \n",
      "                  11, 11, 11, 11, 11, \n",
      "                  11, 11, 11, 11, 11, \n",
      "                  11, 11, 11, 11, 11, \n",
      "                  11, 11, 11, 11\n",
      " mcpart_E        = 0.000957295, \n",
      "                  0.000512798, 0.000517208, 0.000517958, 0.000512139, 0.000513288, \n",
      "                  0.000512109, 0.000512333, 0.000512548, 0.000514088, 0.000574473, \n",
      "                  0.000512766, 0.000517922, 0.000512001, 0.000512566, 0.000512286, \n",
      "                  0.000512245, 0.000512885, 0.000513813, 0.000513676\n",
      " mcpart_px       = -0.00079231, \n",
      "                  1.64712e-05, -5.05921e-05, 7.22584e-05, -1.8018e-05, -3.42674e-05, \n",
      "                  8.94382e-06, 2.84778e-05, -3.60339e-05, -4.73742e-05, -2.34221e-05, \n",
      "                  2.92805e-05, 3.75538e-05, 1.03576e-05, 1.50216e-05, 7.77634e-06, \n",
      "                  -2.74842e-05, 3.72734e-05, -4.23575e-05, -1.85439e-06\n",
      " mcpart_py       = -0.000130744, \n",
      "                  -3.8393e-05, -5.88859e-05, -4.82094e-06, 2.80516e-05, -3.08029e-05, \n",
      "                  -3.20609e-05, -2.11262e-05, 8.84061e-06, -2.92844e-05, 0.000253812, \n",
      "                  3.0856e-05, 7.03884e-05, 2.95148e-05, -3.61211e-05, 3.49494e-05, \n",
      "                  1.94181e-05, -1.10311e-05, -2.7297e-05, -5.03411e-05\n",
      " mcpart_pz       = -0.000102195, \n",
      "                  -9.85308e-06, 1.89053e-05, -4.37785e-05, 7.40572e-06, 1.48891e-05, \n",
      "                  -5.28192e-06, 1.03658e-05, 1.44561e-05, 8.06772e-06, -6.26935e-05, \n",
      "                  3.59619e-07, -2.75369e-05, -6.80535e-06, -8.60046e-06, -5.94037e-06, \n",
      "                  1.19529e-05, -2.04898e-05, 1.85543e-05, 1.43281e-05\n"
     ]
    }
   ],
   "source": [
    "event_tree->Show(0)"
   ]
  },
  {
   "cell_type": "markdown",
   "metadata": {},
   "source": [
    "# Calorimeter evaluator"
   ]
  }
 ],
 "metadata": {
  "kernelspec": {
   "display_name": "sPHENIX ROOT C++",
   "language": "c++",
   "name": "sphenix-root"
  },
  "language_info": {
   "codemirror_mode": "text/x-c++src",
   "file_extension": ".C",
   "mimetype": " text/x-c++src",
   "name": "c++"
  }
 },
 "nbformat": 4,
 "nbformat_minor": 4
}
