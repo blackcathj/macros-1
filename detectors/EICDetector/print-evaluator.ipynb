{
 "cells": [
  {
   "cell_type": "markdown",
   "metadata": {},
   "source": [
    "# Introduction\n",
    "\n",
    "This is an example [sPHENIX](https://github.com/sPHENIX-Collaboration/) [ROOT Jupyter Notebook](https://root.cern.ch/notebooks/HowTos/HowTo_ROOT-Notebooks.html) to run the sPHENIX anaysis on the [BNL SDCC Jupyter Lab](https://jupyter.sdcc.bnl.gov/). Please use lauch the HTC Jupyter hub for this tutorial: \n",
    "\n",
    "![SDCC HTC Jupyter Hub](https://jupyter.sdcc.bnl.gov/images/jupyterhub-logo-card-htc.png)\n",
    "\n",
    "Jupyter Notebook provide an analysis interface that can integrate documentation, code and output plot in a single file. It supports all sPHENIX environment. It is suitable for final analysis step, while large scale analysis and reconstruction should go through the compiled `c++` analysis module.  \n",
    "\n",
    "Here is an example notebook to run the analysis in ROOT C++ macros. There is also a `pyROOT` macro perform similar task if you would like to use `python` for analysis. \n"
   ]
  },
  {
   "cell_type": "markdown",
   "metadata": {},
   "source": [
    "# Tracking evaluator"
   ]
  },
  {
   "cell_type": "code",
   "execution_count": 1,
   "metadata": {},
   "outputs": [
    {
     "name": "stdout",
     "output_type": "stream",
     "text": [
      "(TFile *) 0x7fafa00d3b00\n"
     ]
    }
   ],
   "source": [
    "TFile::Open(\"G4EICDetector_g4tracking_eval.root\")"
   ]
  },
  {
   "cell_type": "code",
   "execution_count": 2,
   "metadata": {},
   "outputs": [
    {
     "name": "stdout",
     "output_type": "stream",
     "text": [
      "TFile**\t\tG4EICDetector_g4tracking_eval.root\t\n",
      " TFile*\t\tG4EICDetector_g4tracking_eval.root\t\n",
      "  KEY: TTree\ttracks;1\tFastSim Eval => tracks\n",
      "  KEY: TTree\tvertex;1\tFastSim Eval => vertces\n",
      "  KEY: TH2D\tDeltaMomVsTruthEta;1\t#frac{#Delta p}{truth p} vs. truth #eta\n",
      "  KEY: TH2D\tDeltaMomVsTruthMom;1\t#frac{#Delta p}{truth p} vs. truth p\n"
     ]
    }
   ],
   "source": [
    "gFile->ls()"
   ]
  },
  {
   "cell_type": "code",
   "execution_count": 3,
   "metadata": {},
   "outputs": [
    {
     "name": "stdout",
     "output_type": "stream",
     "text": [
      "======> EVENT:0\n",
      " event           = 1\n",
      " gtrackID        = 1\n",
      " gflavor         = -211\n",
      " gpx             = 1.2328\n",
      " gpy             = 7.82863\n",
      " gpz             = -56.2354\n",
      " gvx             = 0\n",
      " gvy             = 0\n",
      " gvz             = 3.64197\n",
      " gvt             = 0\n",
      " trackID         = 0\n",
      " charge          = -1\n",
      " nhits           = 0\n",
      " px              = 0.872744\n",
      " py              = 5.46897\n",
      " pz              = -39.3583\n",
      " pcax            = 0.00277378\n",
      " pcay            = -0.00133881\n",
      " pcaz            = 3.63195\n",
      " dca2d           = 6.57687e-05\n",
      " nHit_G4HIT_EGEM_0 = 0\n",
      " nHit_G4HIT_EGEM_1 = 1\n",
      " nHit_G4HIT_EGEM_2 = 1\n",
      " nHit_G4HIT_EGEM_3 = 1\n",
      " nHit_G4HIT_FGEM_2 = 0\n",
      " nHit_G4HIT_FGEM_3 = 0\n",
      " nHit_G4HIT_FGEM_4 = 0\n",
      " nHit_G4HIT_FST_0 = 0\n",
      " nHit_G4HIT_FST_1 = 0\n",
      " nHit_G4HIT_FST_2 = 0\n",
      " nHit_G4HIT_FST_3 = 0\n",
      " nHit_G4HIT_FST_4 = 0\n",
      " nHit_G4HIT_MVTX = 0\n",
      " nHit_G4HIT_TPC  = 0\n"
     ]
    }
   ],
   "source": [
    "tracks->Show(0)"
   ]
  },
  {
   "cell_type": "code",
   "execution_count": null,
   "metadata": {},
   "outputs": [],
   "source": []
  }
 ],
 "metadata": {
  "kernelspec": {
   "display_name": "sPHENIX ROOT C++",
   "language": "c++",
   "name": "sphenix-root"
  },
  "language_info": {
   "codemirror_mode": "text/x-c++src",
   "file_extension": ".C",
   "mimetype": " text/x-c++src",
   "name": "c++"
  }
 },
 "nbformat": 4,
 "nbformat_minor": 4
}
